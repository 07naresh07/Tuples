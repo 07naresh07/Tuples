{
 "cells": [
  {
   "cell_type": "code",
   "execution_count": 6,
   "id": "13b1af82-3f86-4119-b480-c1c988106475",
   "metadata": {},
   "outputs": [
    {
     "data": {
      "text/plain": [
       "0.22188417408787875"
      ]
     },
     "execution_count": 6,
     "metadata": {},
     "output_type": "execute_result"
    }
   ],
   "source": [
    "import pandas as pd\n",
    "import numpy as np\n",
    "import seaborn as sns\n",
    "from sklearn.model_selection import train_test_split, GridSearchCV\n",
    "from sklearn.ensemble import RandomForestRegressor\n",
    "from sklearn.pipeline import Pipeline\n",
    "from sklearn.preprocessing import OneHotEncoder\n",
    "from sklearn.compose import ColumnTransformer\n",
    "from sklearn.impute import SimpleImputer\n",
    "\n",
    "np.random.seed(42)\n",
    "\n",
    "df = pd.read_csv('1_ML_Datas/car-sales-extended-missing-data.csv')\n",
    "df.dropna(subset=['Price'], inplace=True)\n",
    "X = df.drop(columns='Price')\n",
    "y = df.Price\n",
    "\n",
    "X_train, X_test, y_train, y_test = train_test_split(X, y, test_size=0.2)\n",
    "cat_features = df.select_dtypes(include=['object', 'category']).columns.tolist()\n",
    "num_features = ['Odometer (KM)']\n",
    "door_features = ['Doors']\n",
    "categorical_transformer = Pipeline(steps = [\n",
    "    ('imputer', SimpleImputer(strategy='constant', fill_value='missing')),\n",
    "    ('onehot', OneHotEncoder(handle_unknown='ignore'))])\n",
    "\n",
    "door_transformer = Pipeline(steps = [\n",
    "    ('imputer', SimpleImputer(strategy='constant', fill_value=4))])\n",
    "\n",
    "numerical_transformer = Pipeline(steps = [\n",
    "    ('imputer', SimpleImputer(strategy='mean'))])\n",
    "\n",
    "preprocessor = ColumnTransformer([\n",
    "    ('cat', categorical_transformer, cat_features), \n",
    "    ('door', door_transformer, door_features),\n",
    "    ('num', numerical_transformer, num_features)])\n",
    "\n",
    "model = Pipeline(steps=[('preprocessor', preprocessor),\n",
    "                        ('model', RandomForestRegressor())])\n",
    "\n",
    "model.fit(X_train, y_train)\n",
    "model.score(X_test, y_test)"
   ]
  },
  {
   "cell_type": "code",
   "execution_count": null,
   "id": "de8bc35e-78f7-45ad-979c-9b5034d5e77a",
   "metadata": {},
   "outputs": [],
   "source": [
    "pipe_grid = {\n",
    "    'preprocessor__num__imputer__strategy':['mean', 'median'],\n",
    "    'model__n_estimators':[100, 400, 500, 900],\n",
    "    'model__max_depth':[None, 5, 10, 12],\n",
    "    'model__max_features':['sqrt', 'log2'],\n",
    "    'model__min_samples_split':[2, 10, 15, 20],\n",
    "    'model__min_samples_leaf':[2, 10, 12, 20]\n",
    "}\n",
    "gs_model = GridSearchCV(model, param_grid=pipe_grid, cv=5)\n",
    "gs_model.fit(X_train, y_train)"
   ]
  },
  {
   "cell_type": "code",
   "execution_count": null,
   "id": "8b5b9b72-a6c8-4de4-a710-b019f32b16e8",
   "metadata": {},
   "outputs": [],
   "source": []
  }
 ],
 "metadata": {
  "kernelspec": {
   "display_name": "Python 3 (ipykernel)",
   "language": "python",
   "name": "python3"
  },
  "language_info": {
   "codemirror_mode": {
    "name": "ipython",
    "version": 3
   },
   "file_extension": ".py",
   "mimetype": "text/x-python",
   "name": "python",
   "nbconvert_exporter": "python",
   "pygments_lexer": "ipython3",
   "version": "3.12.7"
  }
 },
 "nbformat": 4,
 "nbformat_minor": 5
}
